{
 "cells": [
  {
   "cell_type": "markdown",
   "metadata": {},
   "source": [
    "# BEEM061J Main Assignment Part B Brief\n"
   ]
  },
  {
   "cell_type": "code",
   "execution_count": 2,
   "metadata": {},
   "outputs": [],
   "source": [
    "import json\n",
    "import requests\n",
    "import pandas as pd\n",
    "import datetime\n",
    "import seaborn as sns\n",
    "import statsmodels.formula.api as sm\n",
    "import matplotlib.pyplot as plt\n",
    "import numpy as np\n",
    "from sklearn.linear_model import LinearRegression\n",
    "from fredapi import Fred\n",
    "fred = Fred(api_key='ee924b66673f0e5645f7a9f12e7a01c0')"
   ]
  },
  {
   "cell_type": "markdown",
   "metadata": {},
   "source": [
    "## 1 Explore the Bitcoin Blockchain and Basic Web Coding"
   ]
  },
  {
   "cell_type": "markdown",
   "metadata": {},
   "source": [
    "## 1.1 Extract Information From Your Own Transaction"
   ]
  },
  {
   "cell_type": "code",
   "execution_count": 3,
   "metadata": {},
   "outputs": [],
   "source": [
    "answer = requests.get(\"https://api.whatsonchain.com/v1/bsv/main/block/height/680751\")\n",
    "transaction = json.loads(answer.text)\n"
   ]
  },
  {
   "cell_type": "code",
   "execution_count": 4,
   "metadata": {},
   "outputs": [],
   "source": [
    "TXCOUNT = transaction['txcount']\n",
    "TIME = datetime.datetime.fromtimestamp(transaction['time']).strftime('%Y-%m-%d  %H:%M:%S')\n",
    "TOTAL_FEES= transaction['totalFees']\n",
    "CONFIRMATIONS = transaction['confirmations']\n",
    "MINER = transaction['miner']"
   ]
  },
  {
   "cell_type": "code",
   "execution_count": 5,
   "metadata": {},
   "outputs": [
    {
     "name": "stdout",
     "output_type": "stream",
     "text": [
      "TXCOUNT                          2160\n",
      "TIME             2021-03-30  17:49:27\n",
      "TOTAL FEES        0.09366448000000016\n",
      "CONFIRMATIONS                    1750\n",
      "MINER                        taal.com\n",
      "dtype: object\n"
     ]
    }
   ],
   "source": [
    "data = np.array([TXCOUNT ,TIME,TOTAL_FEES,CONFIRMATIONS,MINER])\n",
    "s = pd.Series(data,index=['TXCOUNT','TIME','TOTAL FEES','CONFIRMATIONS','MINER' ])\n",
    "print(s)"
   ]
  },
  {
   "cell_type": "code",
   "execution_count": null,
   "metadata": {},
   "outputs": [],
   "source": []
  },
  {
   "cell_type": "code",
   "execution_count": null,
   "metadata": {},
   "outputs": [],
   "source": []
  },
  {
   "cell_type": "markdown",
   "metadata": {},
   "source": [
    "## 1.2 Extract Information from Famous Blocks"
   ]
  },
  {
   "cell_type": "markdown",
   "metadata": {},
   "source": [
    "### The First ever transaction from Satoshi to Hal Finney in 2010"
   ]
  },
  {
   "cell_type": "code",
   "execution_count": 6,
   "metadata": {},
   "outputs": [
    {
     "name": "stdout",
     "output_type": "stream",
     "text": [
      "Date: 2009-01-11  21:30:25\n"
     ]
    }
   ],
   "source": [
    "answer = requests.get(\"https://api.whatsonchain.com/v1/bsv/main/tx/hash/f4184fc596403b9d638783cf57adfe4c75c605f6356fbc91338530e9831e9e16\")\n",
    "transaction2 = json.loads(answer.text)\n",
    "\n",
    "timestamp = datetime.datetime.fromtimestamp(transaction2['time'])\n",
    "print(\"Date:\",timestamp.strftime('%Y-%m-%d  %H:%M:%S'))\n"
   ]
  },
  {
   "cell_type": "markdown",
   "metadata": {},
   "source": [
    "### The Pizza purchase for 10,000BTC in 2010"
   ]
  },
  {
   "cell_type": "code",
   "execution_count": 7,
   "metadata": {},
   "outputs": [
    {
     "name": "stdout",
     "output_type": "stream",
     "text": [
      "Date: 2010-05-22  13:16:31\n"
     ]
    }
   ],
   "source": [
    "answer = requests.get(\"https://api.whatsonchain.com/v1/bsv/main/tx/hash/a1075db55d416d3ca199f55b6084e2115b9345e16c5cf302fc80e9d5fbf5d48d\")\n",
    "transaction3 = json.loads(answer.text)\n",
    "\n",
    "timestamp = datetime.datetime.fromtimestamp(transaction3['time'])\n",
    "print(\"Date:\",timestamp.strftime('%Y-%m-%d  %H:%M:%S'))\n",
    "\n"
   ]
  },
  {
   "cell_type": "markdown",
   "metadata": {},
   "source": [
    "# 2. Time Series Investigation of Bitcoin Price"
   ]
  },
  {
   "cell_type": "markdown",
   "metadata": {},
   "source": [
    "## 2.1 Obtain Time Series Data"
   ]
  },
  {
   "cell_type": "code",
   "execution_count": null,
   "metadata": {},
   "outputs": [],
   "source": []
  },
  {
   "cell_type": "code",
   "execution_count": 8,
   "metadata": {},
   "outputs": [
    {
     "data": {
      "text/html": [
       "<div>\n",
       "<style scoped>\n",
       "    .dataframe tbody tr th:only-of-type {\n",
       "        vertical-align: middle;\n",
       "    }\n",
       "\n",
       "    .dataframe tbody tr th {\n",
       "        vertical-align: top;\n",
       "    }\n",
       "\n",
       "    .dataframe thead th {\n",
       "        text-align: right;\n",
       "    }\n",
       "</style>\n",
       "<table border=\"1\" class=\"dataframe\">\n",
       "  <thead>\n",
       "    <tr style=\"text-align: right;\">\n",
       "      <th></th>\n",
       "      <th>Bitcoin Price</th>\n",
       "      <th>Gold Price</th>\n",
       "      <th>S&amp;P500 index</th>\n",
       "      <th>Risk Free Rate</th>\n",
       "    </tr>\n",
       "    <tr>\n",
       "      <th>Date</th>\n",
       "      <th></th>\n",
       "      <th></th>\n",
       "      <th></th>\n",
       "      <th></th>\n",
       "    </tr>\n",
       "  </thead>\n",
       "  <tbody>\n",
       "    <tr>\n",
       "      <th>2017-06-01</th>\n",
       "      <td>2419.99</td>\n",
       "      <td>463.0</td>\n",
       "      <td>2430.06</td>\n",
       "      <td>0.98</td>\n",
       "    </tr>\n",
       "    <tr>\n",
       "      <th>2019-12-01</th>\n",
       "      <td>7413.84</td>\n",
       "      <td>533.9</td>\n",
       "      <td>3113.87</td>\n",
       "      <td>1.54</td>\n",
       "    </tr>\n",
       "    <tr>\n",
       "      <th>2017-05-01</th>\n",
       "      <td>1436.50</td>\n",
       "      <td>450.4</td>\n",
       "      <td>2388.33</td>\n",
       "      <td>0.89</td>\n",
       "    </tr>\n",
       "    <tr>\n",
       "      <th>2015-06-01</th>\n",
       "      <td>223.56</td>\n",
       "      <td>428.5</td>\n",
       "      <td>2111.73</td>\n",
       "      <td>0.02</td>\n",
       "    </tr>\n",
       "    <tr>\n",
       "      <th>2016-08-01</th>\n",
       "      <td>605.20</td>\n",
       "      <td>490.1</td>\n",
       "      <td>2170.84</td>\n",
       "      <td>0.30</td>\n",
       "    </tr>\n",
       "  </tbody>\n",
       "</table>\n",
       "</div>"
      ],
      "text/plain": [
       "            Bitcoin Price  Gold Price  S&P500 index  Risk Free Rate\n",
       "Date                                                               \n",
       "2017-06-01        2419.99       463.0       2430.06            0.98\n",
       "2019-12-01        7413.84       533.9       3113.87            1.54\n",
       "2017-05-01        1436.50       450.4       2388.33            0.89\n",
       "2015-06-01         223.56       428.5       2111.73            0.02\n",
       "2016-08-01         605.20       490.1       2170.84            0.30"
      ]
     },
     "execution_count": 8,
     "metadata": {},
     "output_type": "execute_result"
    }
   ],
   "source": [
    "BTC = fred.get_series('CBBTCUSD')\n",
    "GOLD = fred.get_series('ID7108')\n",
    "MARKET = fred.get_series('SP500')\n",
    "RF = fred.get_series('TB3MS')\n",
    "df = pd.concat([BTC,GOLD,MARKET,RF], axis=1)\n",
    "df.columns =('Bitcoin Price','Gold Price','S&P500 index','Risk Free Rate')\n",
    "df=df.loc['2015-02-01':'2021-02-01']\n",
    "df=df.fillna(method='bfill')\n",
    "df=df[df.index.day==1]\n",
    "df = df.rename_axis('Date')\n",
    "#df.to_csv('c.csv')\n",
    "df.sample(5)\n"
   ]
  },
  {
   "cell_type": "code",
   "execution_count": 9,
   "metadata": {},
   "outputs": [
    {
     "data": {
      "image/png": "[encoded data removed]",
      "text/plain": [
       "<Figure size 720x576 with 4 Axes>"
      ]
     },
     "metadata": {
      "needs_background": "light"
     },
     "output_type": "display_data"
    }
   ],
   "source": [
    "fig,ax =  plt.subplots( 2, 2,\n",
    "                       figsize = ( 10, 8))\n",
    "  \n",
    "sns.lineplot( x = \"Date\", y = \"Bitcoin Price\", \n",
    "             color = 'r', data = df, \n",
    "             ax = ax[0][0]).set_title('Bitcoin')\n",
    "  \n",
    "ax[0][0].tick_params(labelrotation = 25)\n",
    "sns.lineplot( x = \"Date\", y = \"Gold Price\", \n",
    "             color = 'g', data = df,\n",
    "             ax = ax[0][1]).set_title('Gold')\n",
    "  \n",
    "ax[0][1].tick_params(labelrotation = 25)\n",
    "sns.lineplot(x = \"Date\", y = \"S&P500 index\", \n",
    "             color = 'b', data = df,\n",
    "             ax = ax[1][0]).set_title('S&P500')\n",
    "  \n",
    "ax[1][0].tick_params(labelrotation = 25)\n",
    "  \n",
    "sns.lineplot(x = \"Date\", y = \"Risk Free Rate\", \n",
    "             color = 'y', data = df, \n",
    "             ax = ax[1][1]).set_title('3-Month Treasury Bill Secondary Market Rate')\n",
    "  \n",
    "ax[1][1].tick_params(labelrotation = 25)\n",
    "fig.tight_layout(pad = 1.2)"
   ]
  },
  {
   "cell_type": "markdown",
   "metadata": {},
   "source": [
    "## 2.1 Data Transformations"
   ]
  },
  {
   "cell_type": "code",
   "execution_count": 10,
   "metadata": {},
   "outputs": [
    {
     "data": {
      "text/html": [
       "<div>\n",
       "<style scoped>\n",
       "    .dataframe tbody tr th:only-of-type {\n",
       "        vertical-align: middle;\n",
       "    }\n",
       "\n",
       "    .dataframe tbody tr th {\n",
       "        vertical-align: top;\n",
       "    }\n",
       "\n",
       "    .dataframe thead th {\n",
       "        text-align: right;\n",
       "    }\n",
       "</style>\n",
       "<table border=\"1\" class=\"dataframe\">\n",
       "  <thead>\n",
       "    <tr style=\"text-align: right;\">\n",
       "      <th></th>\n",
       "      <th>Bitcoin Price</th>\n",
       "      <th>Gold Price</th>\n",
       "      <th>S&amp;P500 index</th>\n",
       "      <th>Risk Free Rate</th>\n",
       "      <th>log_(BTC/BTCt-1)</th>\n",
       "      <th>log_(GOLD/GOLDt-1)</th>\n",
       "      <th>log_(S&amp;P/S&amp;Pt-1)</th>\n",
       "      <th>RFR/1200</th>\n",
       "    </tr>\n",
       "    <tr>\n",
       "      <th>Date</th>\n",
       "      <th></th>\n",
       "      <th></th>\n",
       "      <th></th>\n",
       "      <th></th>\n",
       "      <th></th>\n",
       "      <th></th>\n",
       "      <th></th>\n",
       "      <th></th>\n",
       "    </tr>\n",
       "  </thead>\n",
       "  <tbody>\n",
       "    <tr>\n",
       "      <th>2015-02-01</th>\n",
       "      <td>228.99</td>\n",
       "      <td>455.8</td>\n",
       "      <td>2020.85</td>\n",
       "      <td>0.02</td>\n",
       "      <td>NaN</td>\n",
       "      <td>NaN</td>\n",
       "      <td>NaN</td>\n",
       "      <td>0.000017</td>\n",
       "    </tr>\n",
       "    <tr>\n",
       "      <th>2015-03-01</th>\n",
       "      <td>260.24</td>\n",
       "      <td>433.9</td>\n",
       "      <td>2117.39</td>\n",
       "      <td>0.03</td>\n",
       "      <td>0.127926</td>\n",
       "      <td>-0.049240</td>\n",
       "      <td>0.046666</td>\n",
       "      <td>0.000025</td>\n",
       "    </tr>\n",
       "    <tr>\n",
       "      <th>2015-04-01</th>\n",
       "      <td>247.87</td>\n",
       "      <td>436.7</td>\n",
       "      <td>2059.69</td>\n",
       "      <td>0.02</td>\n",
       "      <td>-0.048700</td>\n",
       "      <td>0.006432</td>\n",
       "      <td>-0.027629</td>\n",
       "      <td>0.000017</td>\n",
       "    </tr>\n",
       "    <tr>\n",
       "      <th>2015-05-01</th>\n",
       "      <td>233.14</td>\n",
       "      <td>430.8</td>\n",
       "      <td>2108.29</td>\n",
       "      <td>0.02</td>\n",
       "      <td>-0.061265</td>\n",
       "      <td>-0.013603</td>\n",
       "      <td>0.023322</td>\n",
       "      <td>0.000017</td>\n",
       "    </tr>\n",
       "    <tr>\n",
       "      <th>2015-06-01</th>\n",
       "      <td>223.56</td>\n",
       "      <td>428.5</td>\n",
       "      <td>2111.73</td>\n",
       "      <td>0.02</td>\n",
       "      <td>-0.041959</td>\n",
       "      <td>-0.005353</td>\n",
       "      <td>0.001630</td>\n",
       "      <td>0.000017</td>\n",
       "    </tr>\n",
       "    <tr>\n",
       "      <th>...</th>\n",
       "      <td>...</td>\n",
       "      <td>...</td>\n",
       "      <td>...</td>\n",
       "      <td>...</td>\n",
       "      <td>...</td>\n",
       "      <td>...</td>\n",
       "      <td>...</td>\n",
       "      <td>...</td>\n",
       "    </tr>\n",
       "    <tr>\n",
       "      <th>2020-10-01</th>\n",
       "      <td>10598.64</td>\n",
       "      <td>690.2</td>\n",
       "      <td>3380.80</td>\n",
       "      <td>0.10</td>\n",
       "      <td>-0.116799</td>\n",
       "      <td>-0.025039</td>\n",
       "      <td>-0.042236</td>\n",
       "      <td>0.000083</td>\n",
       "    </tr>\n",
       "    <tr>\n",
       "      <th>2020-11-01</th>\n",
       "      <td>13784.52</td>\n",
       "      <td>694.6</td>\n",
       "      <td>3310.24</td>\n",
       "      <td>0.09</td>\n",
       "      <td>0.262821</td>\n",
       "      <td>0.006355</td>\n",
       "      <td>-0.021092</td>\n",
       "      <td>0.000075</td>\n",
       "    </tr>\n",
       "    <tr>\n",
       "      <th>2020-12-01</th>\n",
       "      <td>18763.35</td>\n",
       "      <td>658.5</td>\n",
       "      <td>3662.45</td>\n",
       "      <td>0.09</td>\n",
       "      <td>0.308359</td>\n",
       "      <td>-0.053372</td>\n",
       "      <td>0.101112</td>\n",
       "      <td>0.000075</td>\n",
       "    </tr>\n",
       "    <tr>\n",
       "      <th>2021-01-01</th>\n",
       "      <td>29391.09</td>\n",
       "      <td>696.6</td>\n",
       "      <td>3700.65</td>\n",
       "      <td>0.08</td>\n",
       "      <td>0.448786</td>\n",
       "      <td>0.056247</td>\n",
       "      <td>0.010376</td>\n",
       "      <td>0.000067</td>\n",
       "    </tr>\n",
       "    <tr>\n",
       "      <th>2021-02-01</th>\n",
       "      <td>33457.60</td>\n",
       "      <td>661.7</td>\n",
       "      <td>3773.86</td>\n",
       "      <td>0.04</td>\n",
       "      <td>0.129587</td>\n",
       "      <td>-0.051399</td>\n",
       "      <td>0.019590</td>\n",
       "      <td>0.000033</td>\n",
       "    </tr>\n",
       "  </tbody>\n",
       "</table>\n",
       "<p>73 rows × 8 columns</p>\n",
       "</div>"
      ],
      "text/plain": [
       "            Bitcoin Price  Gold Price  S&P500 index  Risk Free Rate  \\\n",
       "Date                                                                  \n",
       "2015-02-01         228.99       455.8       2020.85            0.02   \n",
       "2015-03-01         260.24       433.9       2117.39            0.03   \n",
       "2015-04-01         247.87       436.7       2059.69            0.02   \n",
       "2015-05-01         233.14       430.8       2108.29            0.02   \n",
       "2015-06-01         223.56       428.5       2111.73            0.02   \n",
       "...                   ...         ...           ...             ...   \n",
       "2020-10-01       10598.64       690.2       3380.80            0.10   \n",
       "2020-11-01       13784.52       694.6       3310.24            0.09   \n",
       "2020-12-01       18763.35       658.5       3662.45            0.09   \n",
       "2021-01-01       29391.09       696.6       3700.65            0.08   \n",
       "2021-02-01       33457.60       661.7       3773.86            0.04   \n",
       "\n",
       "            log_(BTC/BTCt-1)  log_(GOLD/GOLDt-1)  log_(S&P/S&Pt-1)  RFR/1200  \n",
       "Date                                                                          \n",
       "2015-02-01               NaN                 NaN               NaN  0.000017  \n",
       "2015-03-01          0.127926           -0.049240          0.046666  0.000025  \n",
       "2015-04-01         -0.048700            0.006432         -0.027629  0.000017  \n",
       "2015-05-01         -0.061265           -0.013603          0.023322  0.000017  \n",
       "2015-06-01         -0.041959           -0.005353          0.001630  0.000017  \n",
       "...                      ...                 ...               ...       ...  \n",
       "2020-10-01         -0.116799           -0.025039         -0.042236  0.000083  \n",
       "2020-11-01          0.262821            0.006355         -0.021092  0.000075  \n",
       "2020-12-01          0.308359           -0.053372          0.101112  0.000075  \n",
       "2021-01-01          0.448786            0.056247          0.010376  0.000067  \n",
       "2021-02-01          0.129587           -0.051399          0.019590  0.000033  \n",
       "\n",
       "[73 rows x 8 columns]"
      ]
     },
     "execution_count": 10,
     "metadata": {},
     "output_type": "execute_result"
    }
   ],
   "source": [
    "df['log_(BTC/BTCt-1)']=np.log(df['Bitcoin Price']/df['Bitcoin Price'].shift(1))\n",
    "df['log_(GOLD/GOLDt-1)']=np.log(df['Gold Price']/df['Gold Price'].shift(1))\n",
    "df['log_(S&P/S&Pt-1)']=np.log(df['S&P500 index']/df['S&P500 index'].shift(1))\n",
    "df['RFR/1200']=df['Risk Free Rate']/1200\n",
    "df"
   ]
  },
  {
   "cell_type": "code",
   "execution_count": 11,
   "metadata": {},
   "outputs": [
    {
     "data": {
      "text/html": [
       "<div>\n",
       "<style scoped>\n",
       "    .dataframe tbody tr th:only-of-type {\n",
       "        vertical-align: middle;\n",
       "    }\n",
       "\n",
       "    .dataframe tbody tr th {\n",
       "        vertical-align: top;\n",
       "    }\n",
       "\n",
       "    .dataframe thead th {\n",
       "        text-align: right;\n",
       "    }\n",
       "</style>\n",
       "<table border=\"1\" class=\"dataframe\">\n",
       "  <thead>\n",
       "    <tr style=\"text-align: right;\">\n",
       "      <th></th>\n",
       "      <th>Bitcoin Price</th>\n",
       "      <th>Gold Price</th>\n",
       "      <th>S&amp;P500 index</th>\n",
       "      <th>Risk Free Rate</th>\n",
       "      <th>log_(BTC/BTCt-1)</th>\n",
       "      <th>log_(GOLD/GOLDt-1)</th>\n",
       "      <th>log_(S&amp;P/S&amp;Pt-1)</th>\n",
       "      <th>RFR/1200</th>\n",
       "    </tr>\n",
       "    <tr>\n",
       "      <th>Date</th>\n",
       "      <th></th>\n",
       "      <th></th>\n",
       "      <th></th>\n",
       "      <th></th>\n",
       "      <th></th>\n",
       "      <th></th>\n",
       "      <th></th>\n",
       "      <th></th>\n",
       "    </tr>\n",
       "  </thead>\n",
       "  <tbody>\n",
       "    <tr>\n",
       "      <th>2015-03-01</th>\n",
       "      <td>260.24</td>\n",
       "      <td>433.9</td>\n",
       "      <td>2117.39</td>\n",
       "      <td>0.03</td>\n",
       "      <td>0.127926</td>\n",
       "      <td>-0.049240</td>\n",
       "      <td>0.046666</td>\n",
       "      <td>0.000025</td>\n",
       "    </tr>\n",
       "    <tr>\n",
       "      <th>2015-04-01</th>\n",
       "      <td>247.87</td>\n",
       "      <td>436.7</td>\n",
       "      <td>2059.69</td>\n",
       "      <td>0.02</td>\n",
       "      <td>-0.048700</td>\n",
       "      <td>0.006432</td>\n",
       "      <td>-0.027629</td>\n",
       "      <td>0.000017</td>\n",
       "    </tr>\n",
       "    <tr>\n",
       "      <th>2015-05-01</th>\n",
       "      <td>233.14</td>\n",
       "      <td>430.8</td>\n",
       "      <td>2108.29</td>\n",
       "      <td>0.02</td>\n",
       "      <td>-0.061265</td>\n",
       "      <td>-0.013603</td>\n",
       "      <td>0.023322</td>\n",
       "      <td>0.000017</td>\n",
       "    </tr>\n",
       "    <tr>\n",
       "      <th>2015-06-01</th>\n",
       "      <td>223.56</td>\n",
       "      <td>428.5</td>\n",
       "      <td>2111.73</td>\n",
       "      <td>0.02</td>\n",
       "      <td>-0.041959</td>\n",
       "      <td>-0.005353</td>\n",
       "      <td>0.001630</td>\n",
       "      <td>0.000017</td>\n",
       "    </tr>\n",
       "    <tr>\n",
       "      <th>2015-07-01</th>\n",
       "      <td>259.02</td>\n",
       "      <td>422.9</td>\n",
       "      <td>2077.42</td>\n",
       "      <td>0.03</td>\n",
       "      <td>0.147225</td>\n",
       "      <td>-0.013155</td>\n",
       "      <td>-0.016381</td>\n",
       "      <td>0.000025</td>\n",
       "    </tr>\n",
       "    <tr>\n",
       "      <th>...</th>\n",
       "      <td>...</td>\n",
       "      <td>...</td>\n",
       "      <td>...</td>\n",
       "      <td>...</td>\n",
       "      <td>...</td>\n",
       "      <td>...</td>\n",
       "      <td>...</td>\n",
       "      <td>...</td>\n",
       "    </tr>\n",
       "    <tr>\n",
       "      <th>2020-10-01</th>\n",
       "      <td>10598.64</td>\n",
       "      <td>690.2</td>\n",
       "      <td>3380.80</td>\n",
       "      <td>0.10</td>\n",
       "      <td>-0.116799</td>\n",
       "      <td>-0.025039</td>\n",
       "      <td>-0.042236</td>\n",
       "      <td>0.000083</td>\n",
       "    </tr>\n",
       "    <tr>\n",
       "      <th>2020-11-01</th>\n",
       "      <td>13784.52</td>\n",
       "      <td>694.6</td>\n",
       "      <td>3310.24</td>\n",
       "      <td>0.09</td>\n",
       "      <td>0.262821</td>\n",
       "      <td>0.006355</td>\n",
       "      <td>-0.021092</td>\n",
       "      <td>0.000075</td>\n",
       "    </tr>\n",
       "    <tr>\n",
       "      <th>2020-12-01</th>\n",
       "      <td>18763.35</td>\n",
       "      <td>658.5</td>\n",
       "      <td>3662.45</td>\n",
       "      <td>0.09</td>\n",
       "      <td>0.308359</td>\n",
       "      <td>-0.053372</td>\n",
       "      <td>0.101112</td>\n",
       "      <td>0.000075</td>\n",
       "    </tr>\n",
       "    <tr>\n",
       "      <th>2021-01-01</th>\n",
       "      <td>29391.09</td>\n",
       "      <td>696.6</td>\n",
       "      <td>3700.65</td>\n",
       "      <td>0.08</td>\n",
       "      <td>0.448786</td>\n",
       "      <td>0.056247</td>\n",
       "      <td>0.010376</td>\n",
       "      <td>0.000067</td>\n",
       "    </tr>\n",
       "    <tr>\n",
       "      <th>2021-02-01</th>\n",
       "      <td>33457.60</td>\n",
       "      <td>661.7</td>\n",
       "      <td>3773.86</td>\n",
       "      <td>0.04</td>\n",
       "      <td>0.129587</td>\n",
       "      <td>-0.051399</td>\n",
       "      <td>0.019590</td>\n",
       "      <td>0.000033</td>\n",
       "    </tr>\n",
       "  </tbody>\n",
       "</table>\n",
       "<p>72 rows × 8 columns</p>\n",
       "</div>"
      ],
      "text/plain": [
       "            Bitcoin Price  Gold Price  S&P500 index  Risk Free Rate  \\\n",
       "Date                                                                  \n",
       "2015-03-01         260.24       433.9       2117.39            0.03   \n",
       "2015-04-01         247.87       436.7       2059.69            0.02   \n",
       "2015-05-01         233.14       430.8       2108.29            0.02   \n",
       "2015-06-01         223.56       428.5       2111.73            0.02   \n",
       "2015-07-01         259.02       422.9       2077.42            0.03   \n",
       "...                   ...         ...           ...             ...   \n",
       "2020-10-01       10598.64       690.2       3380.80            0.10   \n",
       "2020-11-01       13784.52       694.6       3310.24            0.09   \n",
       "2020-12-01       18763.35       658.5       3662.45            0.09   \n",
       "2021-01-01       29391.09       696.6       3700.65            0.08   \n",
       "2021-02-01       33457.60       661.7       3773.86            0.04   \n",
       "\n",
       "            log_(BTC/BTCt-1)  log_(GOLD/GOLDt-1)  log_(S&P/S&Pt-1)  RFR/1200  \n",
       "Date                                                                          \n",
       "2015-03-01          0.127926           -0.049240          0.046666  0.000025  \n",
       "2015-04-01         -0.048700            0.006432         -0.027629  0.000017  \n",
       "2015-05-01         -0.061265           -0.013603          0.023322  0.000017  \n",
       "2015-06-01         -0.041959           -0.005353          0.001630  0.000017  \n",
       "2015-07-01          0.147225           -0.013155         -0.016381  0.000025  \n",
       "...                      ...                 ...               ...       ...  \n",
       "2020-10-01         -0.116799           -0.025039         -0.042236  0.000083  \n",
       "2020-11-01          0.262821            0.006355         -0.021092  0.000075  \n",
       "2020-12-01          0.308359           -0.053372          0.101112  0.000075  \n",
       "2021-01-01          0.448786            0.056247          0.010376  0.000067  \n",
       "2021-02-01          0.129587           -0.051399          0.019590  0.000033  \n",
       "\n",
       "[72 rows x 8 columns]"
      ]
     },
     "execution_count": 11,
     "metadata": {},
     "output_type": "execute_result"
    }
   ],
   "source": [
    "df = df.drop(df.index[0])\n",
    "df"
   ]
  },
  {
   "cell_type": "code",
   "execution_count": 12,
   "metadata": {},
   "outputs": [],
   "source": [
    "rbt=df['log_(BTC/BTCt-1)']\n",
    "rgt=df['log_(GOLD/GOLDt-1)']\n",
    "rmt=df['log_(S&P/S&Pt-1)']\n",
    "rft=df['RFR/1200']\n"
   ]
  },
  {
   "cell_type": "code",
   "execution_count": 13,
   "metadata": {},
   "outputs": [
    {
     "data": {
      "text/html": [
       "<div>\n",
       "<style scoped>\n",
       "    .dataframe tbody tr th:only-of-type {\n",
       "        vertical-align: middle;\n",
       "    }\n",
       "\n",
       "    .dataframe tbody tr th {\n",
       "        vertical-align: top;\n",
       "    }\n",
       "\n",
       "    .dataframe thead th {\n",
       "        text-align: right;\n",
       "    }\n",
       "</style>\n",
       "<table border=\"1\" class=\"dataframe\">\n",
       "  <thead>\n",
       "    <tr style=\"text-align: right;\">\n",
       "      <th></th>\n",
       "      <th>Bitcoin Price</th>\n",
       "      <th>Gold Price</th>\n",
       "      <th>S&amp;P500 index</th>\n",
       "      <th>Risk Free Rate</th>\n",
       "      <th>rbt</th>\n",
       "      <th>rgt</th>\n",
       "      <th>rmt</th>\n",
       "      <th>rft</th>\n",
       "    </tr>\n",
       "    <tr>\n",
       "      <th>Date</th>\n",
       "      <th></th>\n",
       "      <th></th>\n",
       "      <th></th>\n",
       "      <th></th>\n",
       "      <th></th>\n",
       "      <th></th>\n",
       "      <th></th>\n",
       "      <th></th>\n",
       "    </tr>\n",
       "  </thead>\n",
       "  <tbody>\n",
       "    <tr>\n",
       "      <th>2019-11-01</th>\n",
       "      <td>9268.00</td>\n",
       "      <td>539.2</td>\n",
       "      <td>3066.91</td>\n",
       "      <td>1.54</td>\n",
       "      <td>0.107493</td>\n",
       "      <td>-0.004257</td>\n",
       "      <td>0.042176</td>\n",
       "      <td>0.001283</td>\n",
       "    </tr>\n",
       "    <tr>\n",
       "      <th>2018-06-01</th>\n",
       "      <td>7514.32</td>\n",
       "      <td>469.0</td>\n",
       "      <td>2734.62</td>\n",
       "      <td>1.90</td>\n",
       "      <td>-0.188414</td>\n",
       "      <td>-0.009971</td>\n",
       "      <td>0.029623</td>\n",
       "      <td>0.001583</td>\n",
       "    </tr>\n",
       "    <tr>\n",
       "      <th>2020-05-01</th>\n",
       "      <td>8813.90</td>\n",
       "      <td>617.3</td>\n",
       "      <td>2830.71</td>\n",
       "      <td>0.13</td>\n",
       "      <td>0.271333</td>\n",
       "      <td>0.056482</td>\n",
       "      <td>0.136107</td>\n",
       "      <td>0.000108</td>\n",
       "    </tr>\n",
       "    <tr>\n",
       "      <th>2019-01-01</th>\n",
       "      <td>3826.10</td>\n",
       "      <td>464.4</td>\n",
       "      <td>2510.03</td>\n",
       "      <td>2.37</td>\n",
       "      <td>-0.079335</td>\n",
       "      <td>0.034392</td>\n",
       "      <td>-0.105879</td>\n",
       "      <td>0.001975</td>\n",
       "    </tr>\n",
       "    <tr>\n",
       "      <th>2017-08-01</th>\n",
       "      <td>2732.59</td>\n",
       "      <td>457.9</td>\n",
       "      <td>2476.35</td>\n",
       "      <td>1.01</td>\n",
       "      <td>0.119983</td>\n",
       "      <td>0.035567</td>\n",
       "      <td>0.019302</td>\n",
       "      <td>0.000842</td>\n",
       "    </tr>\n",
       "  </tbody>\n",
       "</table>\n",
       "</div>"
      ],
      "text/plain": [
       "            Bitcoin Price  Gold Price  S&P500 index  Risk Free Rate       rbt  \\\n",
       "Date                                                                            \n",
       "2019-11-01        9268.00       539.2       3066.91            1.54  0.107493   \n",
       "2018-06-01        7514.32       469.0       2734.62            1.90 -0.188414   \n",
       "2020-05-01        8813.90       617.3       2830.71            0.13  0.271333   \n",
       "2019-01-01        3826.10       464.4       2510.03            2.37 -0.079335   \n",
       "2017-08-01        2732.59       457.9       2476.35            1.01  0.119983   \n",
       "\n",
       "                 rgt       rmt       rft  \n",
       "Date                                      \n",
       "2019-11-01 -0.004257  0.042176  0.001283  \n",
       "2018-06-01 -0.009971  0.029623  0.001583  \n",
       "2020-05-01  0.056482  0.136107  0.000108  \n",
       "2019-01-01  0.034392 -0.105879  0.001975  \n",
       "2017-08-01  0.035567  0.019302  0.000842  "
      ]
     },
     "execution_count": 13,
     "metadata": {},
     "output_type": "execute_result"
    }
   ],
   "source": [
    "df.columns =('Bitcoin Price','Gold Price','S&P500 index','Risk Free Rate', 'rbt','rgt','rmt','rft')\n",
    "df.sample(5)"
   ]
  },
  {
   "cell_type": "markdown",
   "metadata": {},
   "source": [
    "# 2.3 Data Analysis"
   ]
  },
  {
   "cell_type": "markdown",
   "metadata": {},
   "source": [
    "### 2.3.1. Correlation between Bitcoin returns  and Gold Returns "
   ]
  },
  {
   "cell_type": "code",
   "execution_count": 14,
   "metadata": {},
   "outputs": [
    {
     "data": {
      "text/plain": [
       "0.16537430112988288"
      ]
     },
     "execution_count": 14,
     "metadata": {},
     "output_type": "execute_result"
    }
   ],
   "source": [
    "BCt_Gold_corr=rbt.corr(rgt)\n",
    "BCt_Gold_corr"
   ]
  },
  {
   "cell_type": "markdown",
   "metadata": {},
   "source": [
    "### 2.3.2. Correlation between Bitcoin returns  and Market Returns"
   ]
  },
  {
   "cell_type": "code",
   "execution_count": 15,
   "metadata": {},
   "outputs": [
    {
     "data": {
      "text/plain": [
       "0.26186288725446805"
      ]
     },
     "execution_count": 15,
     "metadata": {},
     "output_type": "execute_result"
    }
   ],
   "source": [
    "BCt_Market_corr=rbt.corr(rmt)\n",
    "BCt_Market_corr"
   ]
  },
  {
   "cell_type": "markdown",
   "metadata": {},
   "source": [
    "### 2.3.3. Correlation between Gold returns  and Market Returns"
   ]
  },
  {
   "cell_type": "code",
   "execution_count": 16,
   "metadata": {},
   "outputs": [
    {
     "data": {
      "text/plain": [
       "-0.06033944370393373"
      ]
     },
     "execution_count": 16,
     "metadata": {},
     "output_type": "execute_result"
    }
   ],
   "source": [
    "GOLD_Market_corr=rgt.corr(rmt)\n",
    "GOLD_Market_corr"
   ]
  },
  {
   "cell_type": "markdown",
   "metadata": {},
   "source": [
    "### 2.3.4. Visual represantations of correlation."
   ]
  },
  {
   "cell_type": "code",
   "execution_count": 33,
   "metadata": {},
   "outputs": [
    {
     "data": {
      "text/html": [
       "<div>\n",
       "<style scoped>\n",
       "    .dataframe tbody tr th:only-of-type {\n",
       "        vertical-align: middle;\n",
       "    }\n",
       "\n",
       "    .dataframe tbody tr th {\n",
       "        vertical-align: top;\n",
       "    }\n",
       "\n",
       "    .dataframe thead th {\n",
       "        text-align: right;\n",
       "    }\n",
       "</style>\n",
       "<table border=\"1\" class=\"dataframe\">\n",
       "  <thead>\n",
       "    <tr style=\"text-align: right;\">\n",
       "      <th></th>\n",
       "      <th>rbt</th>\n",
       "      <th>rgt</th>\n",
       "      <th>rmt</th>\n",
       "      <th>rft</th>\n",
       "    </tr>\n",
       "  </thead>\n",
       "  <tbody>\n",
       "    <tr>\n",
       "      <th>rbt</th>\n",
       "      <td>1.000000</td>\n",
       "      <td>0.165374</td>\n",
       "      <td>0.261863</td>\n",
       "      <td>-0.136805</td>\n",
       "    </tr>\n",
       "    <tr>\n",
       "      <th>rgt</th>\n",
       "      <td>0.165374</td>\n",
       "      <td>1.000000</td>\n",
       "      <td>-0.060339</td>\n",
       "      <td>0.054736</td>\n",
       "    </tr>\n",
       "    <tr>\n",
       "      <th>rmt</th>\n",
       "      <td>0.261863</td>\n",
       "      <td>-0.060339</td>\n",
       "      <td>1.000000</td>\n",
       "      <td>-0.010558</td>\n",
       "    </tr>\n",
       "    <tr>\n",
       "      <th>rft</th>\n",
       "      <td>-0.136805</td>\n",
       "      <td>0.054736</td>\n",
       "      <td>-0.010558</td>\n",
       "      <td>1.000000</td>\n",
       "    </tr>\n",
       "  </tbody>\n",
       "</table>\n",
       "</div>"
      ],
      "text/plain": [
       "          rbt       rgt       rmt       rft\n",
       "rbt  1.000000  0.165374  0.261863 -0.136805\n",
       "rgt  0.165374  1.000000 -0.060339  0.054736\n",
       "rmt  0.261863 -0.060339  1.000000 -0.010558\n",
       "rft -0.136805  0.054736 -0.010558  1.000000"
      ]
     },
     "metadata": {},
     "output_type": "display_data"
    },
    {
     "data": {
      "image/png": "[encoded data removed]",
      "text/plain": [
       "<Figure size 432x288 with 2 Axes>"
      ]
     },
     "metadata": {
      "needs_background": "light"
     },
     "output_type": "display_data"
    },
    {
     "data": {
      "image/png": "[encoded data removed]",
      "text/plain": [
       "<Figure size 936x576 with 16 Axes>"
      ]
     },
     "metadata": {
      "needs_background": "light"
     },
     "output_type": "display_data"
    }
   ],
   "source": [
    "# calculate the correlation matrix  between variables\n",
    "df2=df.drop(['Bitcoin Price','Gold Price','S&P500 index','Risk Free Rate'], axis = 1)\n",
    "corr=df2.corr()\n",
    "display(corr)\n",
    "#Plot the correlation heatmap\n",
    "sns.heatmap(corr, xticklabels=corr.columns, yticklabels=corr.columns, cmap='RdBu')\n",
    "plt.title('Correlation heatmap plot.', fontsize=19,  color='red')\n",
    "plt.show()\n",
    "#Plot the bivariate relationships between combinations of variables\n",
    "pd.plotting.scatter_matrix(df2,alpha = 1,  figsize = (13,8))\n",
    "plt.show()"
   ]
  },
  {
   "cell_type": "markdown",
   "metadata": {},
   "source": [
    "### 2.3.5. CAMP Bitcoin"
   ]
  },
  {
   "cell_type": "code",
   "execution_count": 18,
   "metadata": {},
   "outputs": [],
   "source": [
    "y= rbt - rft\n",
    "x= rmt - rft\n",
    "y=y.values.reshape(-1,1)\n",
    "x=x.values.reshape(-1,1)"
   ]
  },
  {
   "cell_type": "code",
   "execution_count": 19,
   "metadata": {},
   "outputs": [
    {
     "name": "stdout",
     "output_type": "stream",
     "text": [
      "[0.05934509] [[1.15308105]]\n"
     ]
    }
   ],
   "source": [
    "#Intercept and slope\n",
    "lr = LinearRegression()\n",
    "lr.fit(x,y)\n",
    "print(lr.intercept_, lr.coef_)"
   ]
  },
  {
   "cell_type": "code",
   "execution_count": 20,
   "metadata": {},
   "outputs": [
    {
     "name": "stdout",
     "output_type": "stream",
     "text": [
      "                            OLS Regression Results                            \n",
      "==============================================================================\n",
      "Dep. Variable:                      y   R-squared:                       0.070\n",
      "Model:                            OLS   Adj. R-squared:                  0.056\n",
      "Method:                 Least Squares   F-statistic:                     5.232\n",
      "Date:                Sun, 11 Apr 2021   Prob (F-statistic):             0.0252\n",
      "Time:                        20:25:25   Log-Likelihood:                 10.697\n",
      "No. Observations:                  72   AIC:                            -17.39\n",
      "Df Residuals:                      70   BIC:                            -12.84\n",
      "Df Model:                           1                                         \n",
      "Covariance Type:            nonrobust                                         \n",
      "==============================================================================\n",
      "                 coef    std err          t      P>|t|      [0.025      0.975]\n",
      "------------------------------------------------------------------------------\n",
      "Intercept      0.0593      0.025      2.351      0.022       0.009       0.110\n",
      "x              1.1531      0.504      2.287      0.025       0.148       2.159\n",
      "==============================================================================\n",
      "Omnibus:                        1.467   Durbin-Watson:                   2.110\n",
      "Prob(Omnibus):                  0.480   Jarque-Bera (JB):                0.829\n",
      "Skew:                           0.090   Prob(JB):                        0.661\n",
      "Kurtosis:                       3.494   Cond. No.                         20.2\n",
      "==============================================================================\n",
      "\n",
      "Notes:\n",
      "[1] Standard Errors assume that the covariance matrix of the errors is correctly specified.\n"
     ]
    }
   ],
   "source": [
    "result = sm.ols(formula=\"y ~ x\", data=df).fit()\n",
    "print(result.summary())"
   ]
  },
  {
   "cell_type": "markdown",
   "metadata": {},
   "source": [
    "### 2.3.6. CAMP Gold"
   ]
  },
  {
   "cell_type": "code",
   "execution_count": 21,
   "metadata": {},
   "outputs": [],
   "source": [
    "y1= rgt - rft\n",
    "x1= rmt - rft\n",
    "y1=y1.values.reshape(-1,1)\n",
    "x1=x1.values.reshape(-1,1)"
   ]
  },
  {
   "cell_type": "code",
   "execution_count": 22,
   "metadata": {},
   "outputs": [
    {
     "name": "stdout",
     "output_type": "stream",
     "text": [
      "[0.00477604] [[-0.04901397]]\n"
     ]
    }
   ],
   "source": [
    "#Intercept and slope\n",
    "lr = LinearRegression()\n",
    "lr.fit(x1,y1)\n",
    "print(lr.intercept_, lr.coef_)"
   ]
  },
  {
   "cell_type": "code",
   "execution_count": 23,
   "metadata": {},
   "outputs": [
    {
     "name": "stdout",
     "output_type": "stream",
     "text": [
      "                            OLS Regression Results                            \n",
      "==============================================================================\n",
      "Dep. Variable:                     y1   R-squared:                       0.004\n",
      "Model:                            OLS   Adj. R-squared:                 -0.011\n",
      "Method:                 Least Squares   F-statistic:                    0.2590\n",
      "Date:                Sun, 11 Apr 2021   Prob (F-statistic):              0.612\n",
      "Time:                        20:25:25   Log-Likelihood:                 129.88\n",
      "No. Observations:                  72   AIC:                            -255.8\n",
      "Df Residuals:                      70   BIC:                            -251.2\n",
      "Df Model:                           1                                         \n",
      "Covariance Type:            nonrobust                                         \n",
      "==============================================================================\n",
      "                 coef    std err          t      P>|t|      [0.025      0.975]\n",
      "------------------------------------------------------------------------------\n",
      "Intercept      0.0048      0.005      0.990      0.325      -0.005       0.014\n",
      "x1            -0.0490      0.096     -0.509      0.612      -0.241       0.143\n",
      "==============================================================================\n",
      "Omnibus:                        4.490   Durbin-Watson:                   2.123\n",
      "Prob(Omnibus):                  0.106   Jarque-Bera (JB):                3.887\n",
      "Skew:                           0.378   Prob(JB):                        0.143\n",
      "Kurtosis:                       3.852   Cond. No.                         20.2\n",
      "==============================================================================\n",
      "\n",
      "Notes:\n",
      "[1] Standard Errors assume that the covariance matrix of the errors is correctly specified.\n"
     ]
    }
   ],
   "source": [
    "result = sm.ols(formula=\"y1 ~ x1\", data=df).fit()\n",
    "print(result.summary())"
   ]
  },
  {
   "cell_type": "code",
   "execution_count": null,
   "metadata": {},
   "outputs": [],
   "source": []
  },
  {
   "cell_type": "code",
   "execution_count": null,
   "metadata": {},
   "outputs": [],
   "source": []
  }
 ],
 "metadata": {
  "kernelspec": {
   "display_name": "Python 3",
   "language": "python",
   "name": "python3"
  },
  "language_info": {
   "codemirror_mode": {
    "name": "ipython",
    "version": 3
   },
   "file_extension": ".py",
   "mimetype": "text/x-python",
   "name": "python",
   "nbconvert_exporter": "python",
   "pygments_lexer": "ipython3",
   "version": "3.8.5"
  }
 },
 "nbformat": 4,
 "nbformat_minor": 4
}
