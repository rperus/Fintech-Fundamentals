{
 "cells": [
  {
   "cell_type": "markdown",
   "metadata": {},
   "source": [
    "# BEEM061J Main Assignment Part B Brief\n"
   ]
  },
  {
   "cell_type": "code",
   "execution_count": 77,
   "metadata": {},
   "outputs": [],
   "source": [
    "import json\n",
    "import requests\n",
    "import pandas as pd\n",
    "import datetime\n",
    "import seaborn as sns\n",
    "import statsmodels.formula.api as sm\n",
    "import matplotlib.pyplot as plt\n",
    "import numpy as np\n",
    "from sklearn.linear_model import LinearRegression\n",
    "from fredapi import Fred\n",
    "fred = Fred(api_key='ee924b66673f0e5645f7a9f12e7a01c0')"
   ]
  },
  {
   "cell_type": "markdown",
   "metadata": {},
   "source": [
    "## 1 Explore the Bitcoin Blockchain and Basic Web Coding"
   ]
  },
  {
   "cell_type": "markdown",
   "metadata": {},
   "source": [
    "## 1.1 Extract Information From Your Own Transaction"
   ]
  },
  {
   "cell_type": "code",
   "execution_count": 78,
   "metadata": {},
   "outputs": [],
   "source": [
    "answer = requests.get(\"https://api.whatsonchain.com/v1/bsv/main/block/height/680751\")\n",
    "transaction = json.loads(answer.text)\n"
   ]
  },
  {
   "cell_type": "code",
   "execution_count": 79,
   "metadata": {},
   "outputs": [],
   "source": [
    "TXCOUNT = transaction['txcount']\n",
    "TIME = datetime.datetime.fromtimestamp(transaction['time']).strftime('%Y-%m-%d  %H:%M:%S')\n",
    "TOTAL_FEES= transaction['totalFees']\n",
    "CONFIRMATIONS = transaction['confirmations']\n",
    "MINER = transaction['miner']"
   ]
  },
  {
   "cell_type": "code",
   "execution_count": 80,
   "metadata": {},
   "outputs": [
    {
     "name": "stdout",
     "output_type": "stream",
     "text": [
      "TXCOUNT                          2160\n",
      "TIME             2021-03-30  17:49:27\n",
      "TOTAL FEES        0.09366448000000016\n",
      "CONFIRMATIONS                    1750\n",
      "MINER                        taal.com\n",
      "dtype: object\n"
     ]
    }
   ],
   "source": [
    "data = np.array([TXCOUNT ,TIME,TOTAL_FEES,CONFIRMATIONS,MINER])\n",
    "s = pd.Series(data,index=['TXCOUNT','TIME','TOTAL FEES','CONFIRMATIONS','MINER' ])\n",
    "print(s)"
   ]
  },
  {
   "cell_type": "code",
   "execution_count": null,
   "metadata": {},
   "outputs": [],
   "source": []
  },
  {
   "cell_type": "code",
   "execution_count": null,
   "metadata": {},
   "outputs": [],
   "source": []
  },
  {
   "cell_type": "markdown",
   "metadata": {},
   "source": [
    "## 1.2 Extract Information from Famous Blocks"
   ]
  },
  {
   "cell_type": "markdown",
   "metadata": {},
   "source": [
    "### The First ever transaction from Satoshi to Hal Finney in 2010"
   ]
  },
  {
   "cell_type": "code",
   "execution_count": 81,
   "metadata": {},
   "outputs": [
    {
     "name": "stdout",
     "output_type": "stream",
     "text": [
      "Date: 2009-01-11  21:30:25\n"
     ]
    }
   ],
   "source": [
    "answer = requests.get(\"https://api.whatsonchain.com/v1/bsv/main/tx/hash/f4184fc596403b9d638783cf57adfe4c75c605f6356fbc91338530e9831e9e16\")\n",
    "transaction2 = json.loads(answer.text)\n",
    "\n",
    "timestamp = datetime.datetime.fromtimestamp(transaction2['time'])\n",
    "print(\"Date:\",timestamp.strftime('%Y-%m-%d  %H:%M:%S'))\n"
   ]
  },
  {
   "cell_type": "markdown",
   "metadata": {},
   "source": [
    "### The Pizza purchase for 10,000BTC in 2010"
   ]
  },
  {
   "cell_type": "code",
   "execution_count": 82,
   "metadata": {},
   "outputs": [
    {
     "name": "stdout",
     "output_type": "stream",
     "text": [
      "Date: 2010-05-22  13:16:31\n"
     ]
    }
   ],
   "source": [
    "answer = requests.get(\"https://api.whatsonchain.com/v1/bsv/main/tx/hash/a1075db55d416d3ca199f55b6084e2115b9345e16c5cf302fc80e9d5fbf5d48d\")\n",
    "transaction3 = json.loads(answer.text)\n",
    "\n",
    "timestamp = datetime.datetime.fromtimestamp(transaction3['time'])\n",
    "print(\"Date:\",timestamp.strftime('%Y-%m-%d  %H:%M:%S'))\n",
    "\n"
   ]
  },
  {
   "cell_type": "markdown",
   "metadata": {},
   "source": [
    "# 2. Time Series Investigation of Bitcoin Price"
   ]
  },
  {
   "cell_type": "markdown",
   "metadata": {},
   "source": [
    "## 2.1 Obtain Time Series Data"
   ]
  },
  {
   "cell_type": "code",
   "execution_count": null,
   "metadata": {},
   "outputs": [],
   "source": []
  },
  {
   "cell_type": "code",
   "execution_count": 83,
   "metadata": {},
   "outputs": [
    {
     "data": {
      "text/html": [
       "<div>\n",
       "<style scoped>\n",
       "    .dataframe tbody tr th:only-of-type {\n",
       "        vertical-align: middle;\n",
       "    }\n",
       "\n",
       "    .dataframe tbody tr th {\n",
       "        vertical-align: top;\n",
       "    }\n",
       "\n",
       "    .dataframe thead th {\n",
       "        text-align: right;\n",
       "    }\n",
       "</style>\n",
       "<table border=\"1\" class=\"dataframe\">\n",
       "  <thead>\n",
       "    <tr style=\"text-align: right;\">\n",
       "      <th></th>\n",
       "      <th>Bitcoin Price</th>\n",
       "      <th>Gold Price</th>\n",
       "      <th>S&amp;P500 index</th>\n",
       "      <th>Risk Free Rate</th>\n",
       "    </tr>\n",
       "    <tr>\n",
       "      <th>Date</th>\n",
       "      <th></th>\n",
       "      <th></th>\n",
       "      <th></th>\n",
       "      <th></th>\n",
       "    </tr>\n",
       "  </thead>\n",
       "  <tbody>\n",
       "    <tr>\n",
       "      <th>2021-01-01</th>\n",
       "      <td>29.391k</td>\n",
       "      <td>696.600</td>\n",
       "      <td>3.701k</td>\n",
       "      <td>80.000m</td>\n",
       "    </tr>\n",
       "    <tr>\n",
       "      <th>2019-08-01</th>\n",
       "      <td>10.417k</td>\n",
       "      <td>537.700</td>\n",
       "      <td>2.954k</td>\n",
       "      <td>1.950</td>\n",
       "    </tr>\n",
       "    <tr>\n",
       "      <th>2020-10-01</th>\n",
       "      <td>10.599k</td>\n",
       "      <td>690.200</td>\n",
       "      <td>3.381k</td>\n",
       "      <td>100.000m</td>\n",
       "    </tr>\n",
       "    <tr>\n",
       "      <th>2017-02-01</th>\n",
       "      <td>992.750</td>\n",
       "      <td>437.200</td>\n",
       "      <td>2.280k</td>\n",
       "      <td>520.000m</td>\n",
       "    </tr>\n",
       "    <tr>\n",
       "      <th>2015-07-01</th>\n",
       "      <td>259.020</td>\n",
       "      <td>422.900</td>\n",
       "      <td>2.077k</td>\n",
       "      <td>30.000m</td>\n",
       "    </tr>\n",
       "  </tbody>\n",
       "</table>\n",
       "</div>"
      ],
      "text/plain": [
       "            Bitcoin Price  Gold Price  S&P500 index  Risk Free Rate\n",
       "Date                                                               \n",
       "2021-01-01        29.391k     696.600        3.701k         80.000m\n",
       "2019-08-01        10.417k     537.700        2.954k           1.950\n",
       "2020-10-01        10.599k     690.200        3.381k        100.000m\n",
       "2017-02-01        992.750     437.200        2.280k        520.000m\n",
       "2015-07-01        259.020     422.900        2.077k         30.000m"
      ]
     },
     "execution_count": 83,
     "metadata": {},
     "output_type": "execute_result"
    }
   ],
   "source": [
    "BTC = fred.get_series('CBBTCUSD')\n",
    "GOLD = fred.get_series('ID7108')\n",
    "MARKET = fred.get_series('SP500')\n",
    "RF = fred.get_series('TB3MS')\n",
    "df = pd.concat([BTC,GOLD,MARKET,RF], axis=1)\n",
    "df.columns =('Bitcoin Price','Gold Price','S&P500 index','Risk Free Rate')\n",
    "df=df.loc['2015-02-01':'2021-02-01']\n",
    "df=df.fillna(method='bfill')\n",
    "df=df[df.index.day==1]\n",
    "df = df.rename_axis('Date')\n",
    "#df.to_csv('c.csv')\n",
    "df.sample(5)\n"
   ]
  },
  {
   "cell_type": "code",
   "execution_count": 84,
   "metadata": {},
   "outputs": [
    {
     "data": {
      "image/png": "[encoded data removed]",
      "text/plain": [
       "<Figure size 720x576 with 4 Axes>"
      ]
     },
     "metadata": {
      "needs_background": "light"
     },
     "output_type": "display_data"
    }
   ],
   "source": [
    "fig,ax =  plt.subplots( 2, 2,\n",
    "                       figsize = ( 10, 8))\n",
    "  \n",
    "sns.lineplot( x = \"Date\", y = \"Bitcoin Price\", \n",
    "             color = 'r', data = df, \n",
    "             ax = ax[0][0]).set_title('Bitcoin')\n",
    "  \n",
    "ax[0][0].tick_params(labelrotation = 25)\n",
    "sns.lineplot( x = \"Date\", y = \"Gold Price\", \n",
    "             color = 'g', data = df,\n",
    "             ax = ax[0][1]).set_title('Gold')\n",
    "  \n",
    "ax[0][1].tick_params(labelrotation = 25)\n",
    "sns.lineplot(x = \"Date\", y = \"S&P500 index\", \n",
    "             color = 'b', data = df,\n",
    "             ax = ax[1][0]).set_title('S&P500')\n",
    "  \n",
    "ax[1][0].tick_params(labelrotation = 25)\n",
    "  \n",
    "sns.lineplot(x = \"Date\", y = \"Risk Free Rate\", \n",
    "             color = 'y', data = df, \n",
    "             ax = ax[1][1]).set_title('3-Month Treasury Bill Secondary Market Rate')\n",
    "  \n",
    "ax[1][1].tick_params(labelrotation = 25)\n",
    "fig.tight_layout(pad = 1.2)"
   ]
  },
  {
   "cell_type": "markdown",
   "metadata": {},
   "source": [
    "## 2.1 Obtain Time Series Data"
   ]
  },
  {
   "cell_type": "code",
   "execution_count": 85,
   "metadata": {},
   "outputs": [
    {
     "data": {
      "text/html": [
       "<div>\n",
       "<style scoped>\n",
       "    .dataframe tbody tr th:only-of-type {\n",
       "        vertical-align: middle;\n",
       "    }\n",
       "\n",
       "    .dataframe tbody tr th {\n",
       "        vertical-align: top;\n",
       "    }\n",
       "\n",
       "    .dataframe thead th {\n",
       "        text-align: right;\n",
       "    }\n",
       "</style>\n",
       "<table border=\"1\" class=\"dataframe\">\n",
       "  <thead>\n",
       "    <tr style=\"text-align: right;\">\n",
       "      <th></th>\n",
       "      <th>Bitcoin Price</th>\n",
       "      <th>Gold Price</th>\n",
       "      <th>S&amp;P500 index</th>\n",
       "      <th>Risk Free Rate</th>\n",
       "      <th>log_(BTC/BTCt-1)</th>\n",
       "      <th>log_(GOLD/GOLDt-1)</th>\n",
       "      <th>log_(S&amp;P/S&amp;Pt-1)</th>\n",
       "      <th>RFR/1200</th>\n",
       "    </tr>\n",
       "    <tr>\n",
       "      <th>Date</th>\n",
       "      <th></th>\n",
       "      <th></th>\n",
       "      <th></th>\n",
       "      <th></th>\n",
       "      <th></th>\n",
       "      <th></th>\n",
       "      <th></th>\n",
       "      <th></th>\n",
       "    </tr>\n",
       "  </thead>\n",
       "  <tbody>\n",
       "    <tr>\n",
       "      <th>2015-02-01</th>\n",
       "      <td>228.990</td>\n",
       "      <td>455.800</td>\n",
       "      <td>2.021k</td>\n",
       "      <td>20.000m</td>\n",
       "      <td>NaN</td>\n",
       "      <td>NaN</td>\n",
       "      <td>NaN</td>\n",
       "      <td>16.667u</td>\n",
       "    </tr>\n",
       "    <tr>\n",
       "      <th>2015-03-01</th>\n",
       "      <td>260.240</td>\n",
       "      <td>433.900</td>\n",
       "      <td>2.117k</td>\n",
       "      <td>30.000m</td>\n",
       "      <td>127.926m</td>\n",
       "      <td>-49.240m</td>\n",
       "      <td>46.666m</td>\n",
       "      <td>25.000u</td>\n",
       "    </tr>\n",
       "    <tr>\n",
       "      <th>2015-04-01</th>\n",
       "      <td>247.870</td>\n",
       "      <td>436.700</td>\n",
       "      <td>2.060k</td>\n",
       "      <td>20.000m</td>\n",
       "      <td>-48.700m</td>\n",
       "      <td>6.432m</td>\n",
       "      <td>-27.629m</td>\n",
       "      <td>16.667u</td>\n",
       "    </tr>\n",
       "    <tr>\n",
       "      <th>2015-05-01</th>\n",
       "      <td>233.140</td>\n",
       "      <td>430.800</td>\n",
       "      <td>2.108k</td>\n",
       "      <td>20.000m</td>\n",
       "      <td>-61.265m</td>\n",
       "      <td>-13.603m</td>\n",
       "      <td>23.322m</td>\n",
       "      <td>16.667u</td>\n",
       "    </tr>\n",
       "    <tr>\n",
       "      <th>2015-06-01</th>\n",
       "      <td>223.560</td>\n",
       "      <td>428.500</td>\n",
       "      <td>2.112k</td>\n",
       "      <td>20.000m</td>\n",
       "      <td>-41.959m</td>\n",
       "      <td>-5.353m</td>\n",
       "      <td>1.630m</td>\n",
       "      <td>16.667u</td>\n",
       "    </tr>\n",
       "    <tr>\n",
       "      <th>...</th>\n",
       "      <td>...</td>\n",
       "      <td>...</td>\n",
       "      <td>...</td>\n",
       "      <td>...</td>\n",
       "      <td>...</td>\n",
       "      <td>...</td>\n",
       "      <td>...</td>\n",
       "      <td>...</td>\n",
       "    </tr>\n",
       "    <tr>\n",
       "      <th>2020-10-01</th>\n",
       "      <td>10.599k</td>\n",
       "      <td>690.200</td>\n",
       "      <td>3.381k</td>\n",
       "      <td>100.000m</td>\n",
       "      <td>-116.799m</td>\n",
       "      <td>-25.039m</td>\n",
       "      <td>-42.236m</td>\n",
       "      <td>83.333u</td>\n",
       "    </tr>\n",
       "    <tr>\n",
       "      <th>2020-11-01</th>\n",
       "      <td>13.785k</td>\n",
       "      <td>694.600</td>\n",
       "      <td>3.310k</td>\n",
       "      <td>90.000m</td>\n",
       "      <td>262.821m</td>\n",
       "      <td>6.355m</td>\n",
       "      <td>-21.092m</td>\n",
       "      <td>75.000u</td>\n",
       "    </tr>\n",
       "    <tr>\n",
       "      <th>2020-12-01</th>\n",
       "      <td>18.763k</td>\n",
       "      <td>658.500</td>\n",
       "      <td>3.662k</td>\n",
       "      <td>90.000m</td>\n",
       "      <td>308.359m</td>\n",
       "      <td>-53.372m</td>\n",
       "      <td>101.112m</td>\n",
       "      <td>75.000u</td>\n",
       "    </tr>\n",
       "    <tr>\n",
       "      <th>2021-01-01</th>\n",
       "      <td>29.391k</td>\n",
       "      <td>696.600</td>\n",
       "      <td>3.701k</td>\n",
       "      <td>80.000m</td>\n",
       "      <td>448.786m</td>\n",
       "      <td>56.247m</td>\n",
       "      <td>10.376m</td>\n",
       "      <td>66.667u</td>\n",
       "    </tr>\n",
       "    <tr>\n",
       "      <th>2021-02-01</th>\n",
       "      <td>33.458k</td>\n",
       "      <td>661.700</td>\n",
       "      <td>3.774k</td>\n",
       "      <td>40.000m</td>\n",
       "      <td>129.587m</td>\n",
       "      <td>-51.399m</td>\n",
       "      <td>19.590m</td>\n",
       "      <td>33.333u</td>\n",
       "    </tr>\n",
       "  </tbody>\n",
       "</table>\n",
       "<p>73 rows × 8 columns</p>\n",
       "</div>"
      ],
      "text/plain": [
       "            Bitcoin Price  Gold Price  S&P500 index  Risk Free Rate  \\\n",
       "Date                                                                  \n",
       "2015-02-01        228.990     455.800        2.021k         20.000m   \n",
       "2015-03-01        260.240     433.900        2.117k         30.000m   \n",
       "2015-04-01        247.870     436.700        2.060k         20.000m   \n",
       "2015-05-01        233.140     430.800        2.108k         20.000m   \n",
       "2015-06-01        223.560     428.500        2.112k         20.000m   \n",
       "...                   ...         ...           ...             ...   \n",
       "2020-10-01        10.599k     690.200        3.381k        100.000m   \n",
       "2020-11-01        13.785k     694.600        3.310k         90.000m   \n",
       "2020-12-01        18.763k     658.500        3.662k         90.000m   \n",
       "2021-01-01        29.391k     696.600        3.701k         80.000m   \n",
       "2021-02-01        33.458k     661.700        3.774k         40.000m   \n",
       "\n",
       "            log_(BTC/BTCt-1)  log_(GOLD/GOLDt-1)  log_(S&P/S&Pt-1)  RFR/1200  \n",
       "Date                                                                          \n",
       "2015-02-01               NaN                 NaN               NaN   16.667u  \n",
       "2015-03-01          127.926m            -49.240m           46.666m   25.000u  \n",
       "2015-04-01          -48.700m              6.432m          -27.629m   16.667u  \n",
       "2015-05-01          -61.265m            -13.603m           23.322m   16.667u  \n",
       "2015-06-01          -41.959m             -5.353m            1.630m   16.667u  \n",
       "...                      ...                 ...               ...       ...  \n",
       "2020-10-01         -116.799m            -25.039m          -42.236m   83.333u  \n",
       "2020-11-01          262.821m              6.355m          -21.092m   75.000u  \n",
       "2020-12-01          308.359m            -53.372m          101.112m   75.000u  \n",
       "2021-01-01          448.786m             56.247m           10.376m   66.667u  \n",
       "2021-02-01          129.587m            -51.399m           19.590m   33.333u  \n",
       "\n",
       "[73 rows x 8 columns]"
      ]
     },
     "execution_count": 85,
     "metadata": {},
     "output_type": "execute_result"
    }
   ],
   "source": [
    "df['log_(BTC/BTCt-1)']=np.log(df['Bitcoin Price']/df['Bitcoin Price'].shift(1))\n",
    "df['log_(GOLD/GOLDt-1)']=np.log(df['Gold Price']/df['Gold Price'].shift(1))\n",
    "df['log_(S&P/S&Pt-1)']=np.log(df['S&P500 index']/df['S&P500 index'].shift(1))\n",
    "df['RFR/1200']=df['Risk Free Rate']/1200\n",
    "df"
   ]
  },
  {
   "cell_type": "code",
   "execution_count": 86,
   "metadata": {},
   "outputs": [
    {
     "data": {
      "text/html": [
       "<div>\n",
       "<style scoped>\n",
       "    .dataframe tbody tr th:only-of-type {\n",
       "        vertical-align: middle;\n",
       "    }\n",
       "\n",
       "    .dataframe tbody tr th {\n",
       "        vertical-align: top;\n",
       "    }\n",
       "\n",
       "    .dataframe thead th {\n",
       "        text-align: right;\n",
       "    }\n",
       "</style>\n",
       "<table border=\"1\" class=\"dataframe\">\n",
       "  <thead>\n",
       "    <tr style=\"text-align: right;\">\n",
       "      <th></th>\n",
       "      <th>Bitcoin Price</th>\n",
       "      <th>Gold Price</th>\n",
       "      <th>S&amp;P500 index</th>\n",
       "      <th>Risk Free Rate</th>\n",
       "      <th>log_(BTC/BTCt-1)</th>\n",
       "      <th>log_(GOLD/GOLDt-1)</th>\n",
       "      <th>log_(S&amp;P/S&amp;Pt-1)</th>\n",
       "      <th>RFR/1200</th>\n",
       "    </tr>\n",
       "    <tr>\n",
       "      <th>Date</th>\n",
       "      <th></th>\n",
       "      <th></th>\n",
       "      <th></th>\n",
       "      <th></th>\n",
       "      <th></th>\n",
       "      <th></th>\n",
       "      <th></th>\n",
       "      <th></th>\n",
       "    </tr>\n",
       "  </thead>\n",
       "  <tbody>\n",
       "    <tr>\n",
       "      <th>2015-03-01</th>\n",
       "      <td>260.240</td>\n",
       "      <td>433.900</td>\n",
       "      <td>2.117k</td>\n",
       "      <td>30.000m</td>\n",
       "      <td>127.926m</td>\n",
       "      <td>-49.240m</td>\n",
       "      <td>46.666m</td>\n",
       "      <td>25.000u</td>\n",
       "    </tr>\n",
       "    <tr>\n",
       "      <th>2015-04-01</th>\n",
       "      <td>247.870</td>\n",
       "      <td>436.700</td>\n",
       "      <td>2.060k</td>\n",
       "      <td>20.000m</td>\n",
       "      <td>-48.700m</td>\n",
       "      <td>6.432m</td>\n",
       "      <td>-27.629m</td>\n",
       "      <td>16.667u</td>\n",
       "    </tr>\n",
       "    <tr>\n",
       "      <th>2015-05-01</th>\n",
       "      <td>233.140</td>\n",
       "      <td>430.800</td>\n",
       "      <td>2.108k</td>\n",
       "      <td>20.000m</td>\n",
       "      <td>-61.265m</td>\n",
       "      <td>-13.603m</td>\n",
       "      <td>23.322m</td>\n",
       "      <td>16.667u</td>\n",
       "    </tr>\n",
       "    <tr>\n",
       "      <th>2015-06-01</th>\n",
       "      <td>223.560</td>\n",
       "      <td>428.500</td>\n",
       "      <td>2.112k</td>\n",
       "      <td>20.000m</td>\n",
       "      <td>-41.959m</td>\n",
       "      <td>-5.353m</td>\n",
       "      <td>1.630m</td>\n",
       "      <td>16.667u</td>\n",
       "    </tr>\n",
       "    <tr>\n",
       "      <th>2015-07-01</th>\n",
       "      <td>259.020</td>\n",
       "      <td>422.900</td>\n",
       "      <td>2.077k</td>\n",
       "      <td>30.000m</td>\n",
       "      <td>147.225m</td>\n",
       "      <td>-13.155m</td>\n",
       "      <td>-16.381m</td>\n",
       "      <td>25.000u</td>\n",
       "    </tr>\n",
       "    <tr>\n",
       "      <th>...</th>\n",
       "      <td>...</td>\n",
       "      <td>...</td>\n",
       "      <td>...</td>\n",
       "      <td>...</td>\n",
       "      <td>...</td>\n",
       "      <td>...</td>\n",
       "      <td>...</td>\n",
       "      <td>...</td>\n",
       "    </tr>\n",
       "    <tr>\n",
       "      <th>2020-10-01</th>\n",
       "      <td>10.599k</td>\n",
       "      <td>690.200</td>\n",
       "      <td>3.381k</td>\n",
       "      <td>100.000m</td>\n",
       "      <td>-116.799m</td>\n",
       "      <td>-25.039m</td>\n",
       "      <td>-42.236m</td>\n",
       "      <td>83.333u</td>\n",
       "    </tr>\n",
       "    <tr>\n",
       "      <th>2020-11-01</th>\n",
       "      <td>13.785k</td>\n",
       "      <td>694.600</td>\n",
       "      <td>3.310k</td>\n",
       "      <td>90.000m</td>\n",
       "      <td>262.821m</td>\n",
       "      <td>6.355m</td>\n",
       "      <td>-21.092m</td>\n",
       "      <td>75.000u</td>\n",
       "    </tr>\n",
       "    <tr>\n",
       "      <th>2020-12-01</th>\n",
       "      <td>18.763k</td>\n",
       "      <td>658.500</td>\n",
       "      <td>3.662k</td>\n",
       "      <td>90.000m</td>\n",
       "      <td>308.359m</td>\n",
       "      <td>-53.372m</td>\n",
       "      <td>101.112m</td>\n",
       "      <td>75.000u</td>\n",
       "    </tr>\n",
       "    <tr>\n",
       "      <th>2021-01-01</th>\n",
       "      <td>29.391k</td>\n",
       "      <td>696.600</td>\n",
       "      <td>3.701k</td>\n",
       "      <td>80.000m</td>\n",
       "      <td>448.786m</td>\n",
       "      <td>56.247m</td>\n",
       "      <td>10.376m</td>\n",
       "      <td>66.667u</td>\n",
       "    </tr>\n",
       "    <tr>\n",
       "      <th>2021-02-01</th>\n",
       "      <td>33.458k</td>\n",
       "      <td>661.700</td>\n",
       "      <td>3.774k</td>\n",
       "      <td>40.000m</td>\n",
       "      <td>129.587m</td>\n",
       "      <td>-51.399m</td>\n",
       "      <td>19.590m</td>\n",
       "      <td>33.333u</td>\n",
       "    </tr>\n",
       "  </tbody>\n",
       "</table>\n",
       "<p>72 rows × 8 columns</p>\n",
       "</div>"
      ],
      "text/plain": [
       "            Bitcoin Price  Gold Price  S&P500 index  Risk Free Rate  \\\n",
       "Date                                                                  \n",
       "2015-03-01        260.240     433.900        2.117k         30.000m   \n",
       "2015-04-01        247.870     436.700        2.060k         20.000m   \n",
       "2015-05-01        233.140     430.800        2.108k         20.000m   \n",
       "2015-06-01        223.560     428.500        2.112k         20.000m   \n",
       "2015-07-01        259.020     422.900        2.077k         30.000m   \n",
       "...                   ...         ...           ...             ...   \n",
       "2020-10-01        10.599k     690.200        3.381k        100.000m   \n",
       "2020-11-01        13.785k     694.600        3.310k         90.000m   \n",
       "2020-12-01        18.763k     658.500        3.662k         90.000m   \n",
       "2021-01-01        29.391k     696.600        3.701k         80.000m   \n",
       "2021-02-01        33.458k     661.700        3.774k         40.000m   \n",
       "\n",
       "            log_(BTC/BTCt-1)  log_(GOLD/GOLDt-1)  log_(S&P/S&Pt-1)  RFR/1200  \n",
       "Date                                                                          \n",
       "2015-03-01          127.926m            -49.240m           46.666m   25.000u  \n",
       "2015-04-01          -48.700m              6.432m          -27.629m   16.667u  \n",
       "2015-05-01          -61.265m            -13.603m           23.322m   16.667u  \n",
       "2015-06-01          -41.959m             -5.353m            1.630m   16.667u  \n",
       "2015-07-01          147.225m            -13.155m          -16.381m   25.000u  \n",
       "...                      ...                 ...               ...       ...  \n",
       "2020-10-01         -116.799m            -25.039m          -42.236m   83.333u  \n",
       "2020-11-01          262.821m              6.355m          -21.092m   75.000u  \n",
       "2020-12-01          308.359m            -53.372m          101.112m   75.000u  \n",
       "2021-01-01          448.786m             56.247m           10.376m   66.667u  \n",
       "2021-02-01          129.587m            -51.399m           19.590m   33.333u  \n",
       "\n",
       "[72 rows x 8 columns]"
      ]
     },
     "execution_count": 86,
     "metadata": {},
     "output_type": "execute_result"
    }
   ],
   "source": [
    "df = df.drop(df.index[0])\n",
    "df"
   ]
  },
  {
   "cell_type": "code",
   "execution_count": 87,
   "metadata": {},
   "outputs": [],
   "source": [
    "rbt=df['log_(BTC/BTCt-1)']\n",
    "rgt=df['log_(GOLD/GOLDt-1)']\n",
    "rmt=df['log_(S&P/S&Pt-1)']\n",
    "rft=df['RFR/1200']\n"
   ]
  },
  {
   "cell_type": "code",
   "execution_count": 88,
   "metadata": {},
   "outputs": [
    {
     "data": {
      "text/html": [
       "<div>\n",
       "<style scoped>\n",
       "    .dataframe tbody tr th:only-of-type {\n",
       "        vertical-align: middle;\n",
       "    }\n",
       "\n",
       "    .dataframe tbody tr th {\n",
       "        vertical-align: top;\n",
       "    }\n",
       "\n",
       "    .dataframe thead th {\n",
       "        text-align: right;\n",
       "    }\n",
       "</style>\n",
       "<table border=\"1\" class=\"dataframe\">\n",
       "  <thead>\n",
       "    <tr style=\"text-align: right;\">\n",
       "      <th></th>\n",
       "      <th>Bitcoin Price</th>\n",
       "      <th>Gold Price</th>\n",
       "      <th>S&amp;P500 index</th>\n",
       "      <th>Risk Free Rate</th>\n",
       "      <th>rbt</th>\n",
       "      <th>rgt</th>\n",
       "      <th>rmt</th>\n",
       "      <th>rft</th>\n",
       "    </tr>\n",
       "    <tr>\n",
       "      <th>Date</th>\n",
       "      <th></th>\n",
       "      <th></th>\n",
       "      <th></th>\n",
       "      <th></th>\n",
       "      <th></th>\n",
       "      <th></th>\n",
       "      <th></th>\n",
       "      <th></th>\n",
       "    </tr>\n",
       "  </thead>\n",
       "  <tbody>\n",
       "    <tr>\n",
       "      <th>2017-05-01</th>\n",
       "      <td>1.436k</td>\n",
       "      <td>450.400</td>\n",
       "      <td>2.388k</td>\n",
       "      <td>890.000m</td>\n",
       "      <td>274.199m</td>\n",
       "      <td>-6.418m</td>\n",
       "      <td>12.424m</td>\n",
       "      <td>741.667u</td>\n",
       "    </tr>\n",
       "    <tr>\n",
       "      <th>2019-10-01</th>\n",
       "      <td>8.323k</td>\n",
       "      <td>541.500</td>\n",
       "      <td>2.940k</td>\n",
       "      <td>1.650</td>\n",
       "      <td>-160.205m</td>\n",
       "      <td>-24.084m</td>\n",
       "      <td>11.624m</td>\n",
       "      <td>1.375m</td>\n",
       "    </tr>\n",
       "    <tr>\n",
       "      <th>2019-03-01</th>\n",
       "      <td>3.806k</td>\n",
       "      <td>467.300</td>\n",
       "      <td>2.804k</td>\n",
       "      <td>2.400</td>\n",
       "      <td>101.879m</td>\n",
       "      <td>-18.236m</td>\n",
       "      <td>35.269m</td>\n",
       "      <td>2.000m</td>\n",
       "    </tr>\n",
       "    <tr>\n",
       "      <th>2017-03-01</th>\n",
       "      <td>1.230k</td>\n",
       "      <td>449.600</td>\n",
       "      <td>2.396k</td>\n",
       "      <td>740.000m</td>\n",
       "      <td>214.291m</td>\n",
       "      <td>27.968m</td>\n",
       "      <td>49.806m</td>\n",
       "      <td>616.667u</td>\n",
       "    </tr>\n",
       "    <tr>\n",
       "      <th>2017-10-01</th>\n",
       "      <td>4.395k</td>\n",
       "      <td>459.600</td>\n",
       "      <td>2.529k</td>\n",
       "      <td>1.070</td>\n",
       "      <td>-118.557m</td>\n",
       "      <td>-53.174m</td>\n",
       "      <td>21.005m</td>\n",
       "      <td>891.667u</td>\n",
       "    </tr>\n",
       "  </tbody>\n",
       "</table>\n",
       "</div>"
      ],
      "text/plain": [
       "            Bitcoin Price  Gold Price  S&P500 index  Risk Free Rate       rbt  \\\n",
       "Date                                                                            \n",
       "2017-05-01         1.436k     450.400        2.388k        890.000m  274.199m   \n",
       "2019-10-01         8.323k     541.500        2.940k           1.650 -160.205m   \n",
       "2019-03-01         3.806k     467.300        2.804k           2.400  101.879m   \n",
       "2017-03-01         1.230k     449.600        2.396k        740.000m  214.291m   \n",
       "2017-10-01         4.395k     459.600        2.529k           1.070 -118.557m   \n",
       "\n",
       "                rgt      rmt       rft  \n",
       "Date                                    \n",
       "2017-05-01  -6.418m  12.424m  741.667u  \n",
       "2019-10-01 -24.084m  11.624m    1.375m  \n",
       "2019-03-01 -18.236m  35.269m    2.000m  \n",
       "2017-03-01  27.968m  49.806m  616.667u  \n",
       "2017-10-01 -53.174m  21.005m  891.667u  "
      ]
     },
     "execution_count": 88,
     "metadata": {},
     "output_type": "execute_result"
    }
   ],
   "source": [
    "df.columns =('Bitcoin Price','Gold Price','S&P500 index','Risk Free Rate', 'rbt','rgt','rmt','rft')\n",
    "df.sample(5)"
   ]
  },
  {
   "cell_type": "markdown",
   "metadata": {},
   "source": [
    "# 2.3 Data Analysis"
   ]
  },
  {
   "cell_type": "markdown",
   "metadata": {},
   "source": [
    "### 2.3.1. Correlation between Bitcoin returns  and Gold Returns "
   ]
  },
  {
   "cell_type": "code",
   "execution_count": 89,
   "metadata": {},
   "outputs": [
    {
     "data": {
      "text/plain": [
       "0.16537430112988288"
      ]
     },
     "execution_count": 89,
     "metadata": {},
     "output_type": "execute_result"
    }
   ],
   "source": [
    "BCt_Gold_corr=rbt.corr(rgt)\n",
    "BCt_Gold_corr"
   ]
  },
  {
   "cell_type": "markdown",
   "metadata": {},
   "source": [
    "### 2.3.2. Correlation between Bitcoin returns  and Market Returns"
   ]
  },
  {
   "cell_type": "code",
   "execution_count": 90,
   "metadata": {},
   "outputs": [
    {
     "data": {
      "text/plain": [
       "0.26186288725446805"
      ]
     },
     "execution_count": 90,
     "metadata": {},
     "output_type": "execute_result"
    }
   ],
   "source": [
    "BCt_Market_corr=rbt.corr(rmt)\n",
    "BCt_Market_corr"
   ]
  },
  {
   "cell_type": "markdown",
   "metadata": {},
   "source": [
    "### 2.3.3. Correlation between Gold returns  and Market Returns"
   ]
  },
  {
   "cell_type": "code",
   "execution_count": 91,
   "metadata": {},
   "outputs": [
    {
     "data": {
      "text/plain": [
       "-0.06033944370393373"
      ]
     },
     "execution_count": 91,
     "metadata": {},
     "output_type": "execute_result"
    }
   ],
   "source": [
    "GOLD_Market_corr=rgt.corr(rmt)\n",
    "GOLD_Market_corr"
   ]
  },
  {
   "cell_type": "code",
   "execution_count": 105,
   "metadata": {},
   "outputs": [
    {
     "data": {
      "text/html": [
       "<div>\n",
       "<style scoped>\n",
       "    .dataframe tbody tr th:only-of-type {\n",
       "        vertical-align: middle;\n",
       "    }\n",
       "\n",
       "    .dataframe tbody tr th {\n",
       "        vertical-align: top;\n",
       "    }\n",
       "\n",
       "    .dataframe thead th {\n",
       "        text-align: right;\n",
       "    }\n",
       "</style>\n",
       "<table border=\"1\" class=\"dataframe\">\n",
       "  <thead>\n",
       "    <tr style=\"text-align: right;\">\n",
       "      <th></th>\n",
       "      <th>rbt</th>\n",
       "      <th>rgt</th>\n",
       "      <th>rmt</th>\n",
       "      <th>rft</th>\n",
       "    </tr>\n",
       "  </thead>\n",
       "  <tbody>\n",
       "    <tr>\n",
       "      <th>rbt</th>\n",
       "      <td>1.000</td>\n",
       "      <td>165.374m</td>\n",
       "      <td>261.863m</td>\n",
       "      <td>-136.805m</td>\n",
       "    </tr>\n",
       "    <tr>\n",
       "      <th>rgt</th>\n",
       "      <td>165.374m</td>\n",
       "      <td>1.000</td>\n",
       "      <td>-60.339m</td>\n",
       "      <td>54.736m</td>\n",
       "    </tr>\n",
       "    <tr>\n",
       "      <th>rmt</th>\n",
       "      <td>261.863m</td>\n",
       "      <td>-60.339m</td>\n",
       "      <td>1.000</td>\n",
       "      <td>-10.558m</td>\n",
       "    </tr>\n",
       "    <tr>\n",
       "      <th>rft</th>\n",
       "      <td>-136.805m</td>\n",
       "      <td>54.736m</td>\n",
       "      <td>-10.558m</td>\n",
       "      <td>1.000</td>\n",
       "    </tr>\n",
       "  </tbody>\n",
       "</table>\n",
       "</div>"
      ],
      "text/plain": [
       "          rbt       rgt       rmt       rft\n",
       "rbt     1.000  165.374m  261.863m -136.805m\n",
       "rgt  165.374m     1.000  -60.339m   54.736m\n",
       "rmt  261.863m  -60.339m     1.000  -10.558m\n",
       "rft -136.805m   54.736m  -10.558m     1.000"
      ]
     },
     "metadata": {},
     "output_type": "display_data"
    },
    {
     "data": {
      "image/png": "[encoded data removed]",
      "text/plain": [
       "<Figure size 432x288 with 2 Axes>"
      ]
     },
     "metadata": {
      "needs_background": "light"
     },
     "output_type": "display_data"
    },
    {
     "data": {
      "image/png": "[encoded data removed]",
      "text/plain": [
       "<Figure size 1008x648 with 16 Axes>"
      ]
     },
     "metadata": {
      "needs_background": "light"
     },
     "output_type": "display_data"
    },
    {
     "data": {
      "text/html": [
       "<div>\n",
       "<style scoped>\n",
       "    .dataframe tbody tr th:only-of-type {\n",
       "        vertical-align: middle;\n",
       "    }\n",
       "\n",
       "    .dataframe tbody tr th {\n",
       "        vertical-align: top;\n",
       "    }\n",
       "\n",
       "    .dataframe thead th {\n",
       "        text-align: right;\n",
       "    }\n",
       "</style>\n",
       "<table border=\"1\" class=\"dataframe\">\n",
       "  <thead>\n",
       "    <tr style=\"text-align: right;\">\n",
       "      <th></th>\n",
       "      <th>rbt</th>\n",
       "      <th>rgt</th>\n",
       "      <th>rmt</th>\n",
       "      <th>rft</th>\n",
       "    </tr>\n",
       "  </thead>\n",
       "  <tbody>\n",
       "    <tr>\n",
       "      <th>rbt</th>\n",
       "      <td>1.000</td>\n",
       "      <td>165.374m</td>\n",
       "      <td>261.863m</td>\n",
       "      <td>-136.805m</td>\n",
       "    </tr>\n",
       "    <tr>\n",
       "      <th>rgt</th>\n",
       "      <td>165.374m</td>\n",
       "      <td>1.000</td>\n",
       "      <td>-60.339m</td>\n",
       "      <td>54.736m</td>\n",
       "    </tr>\n",
       "    <tr>\n",
       "      <th>rmt</th>\n",
       "      <td>261.863m</td>\n",
       "      <td>-60.339m</td>\n",
       "      <td>1.000</td>\n",
       "      <td>-10.558m</td>\n",
       "    </tr>\n",
       "    <tr>\n",
       "      <th>rft</th>\n",
       "      <td>-136.805m</td>\n",
       "      <td>54.736m</td>\n",
       "      <td>-10.558m</td>\n",
       "      <td>1.000</td>\n",
       "    </tr>\n",
       "  </tbody>\n",
       "</table>\n",
       "</div>"
      ],
      "text/plain": [
       "          rbt       rgt       rmt       rft\n",
       "rbt     1.000  165.374m  261.863m -136.805m\n",
       "rgt  165.374m     1.000  -60.339m   54.736m\n",
       "rmt  261.863m  -60.339m     1.000  -10.558m\n",
       "rft -136.805m   54.736m  -10.558m     1.000"
      ]
     },
     "metadata": {},
     "output_type": "display_data"
    }
   ],
   "source": [
    "\n",
    "# calculate the correlation matrix  between variables\n",
    "df2=df.drop(['Bitcoin Price','Gold Price','S&P500 index','Risk Free Rate'], axis = 1)\n",
    "df2\n",
    "corr=df2.corr()\n",
    "display(corr)\n",
    "#Plot the correlation heatmap\n",
    "sns.heatmap(corr, xticklabels=corr.columns, yticklabels=corr.columns, cmap='RdBu')\n",
    "plt.title('Correlation heatmap plot.', fontsize=19,  color='red')\n",
    "plt.show()\n",
    "#Plot the bivariate relationships between combinations of variables\n",
    "\n",
    "\n",
    "pd.plotting.scatter_matrix(df2,alpha = .2,  figsize = (14,9))\n",
    "\n",
    "\n",
    "plt.show()\n"
   ]
  },
  {
   "cell_type": "markdown",
   "metadata": {},
   "source": [
    "### 3. CAMP Bitcoin"
   ]
  },
  {
   "cell_type": "code",
   "execution_count": 93,
   "metadata": {},
   "outputs": [],
   "source": [
    "y= rbt - rft\n",
    "x= rmt - rft\n",
    "y=y.values.reshape(-1,1)\n",
    "x=x.values.reshape(-1,1)"
   ]
  },
  {
   "cell_type": "code",
   "execution_count": 94,
   "metadata": {},
   "outputs": [
    {
     "name": "stdout",
     "output_type": "stream",
     "text": [
      "[0.05934509] [[1.15308105]]\n"
     ]
    }
   ],
   "source": [
    "#Intercept and slope\n",
    "lr = LinearRegression()\n",
    "lr.fit(x,y)\n",
    "print(lr.intercept_, lr.coef_)"
   ]
  },
  {
   "cell_type": "code",
   "execution_count": 95,
   "metadata": {},
   "outputs": [
    {
     "name": "stdout",
     "output_type": "stream",
     "text": [
      "                            OLS Regression Results                            \n",
      "==============================================================================\n",
      "Dep. Variable:                      y   R-squared:                       0.070\n",
      "Model:                            OLS   Adj. R-squared:                  0.056\n",
      "Method:                 Least Squares   F-statistic:                     5.232\n",
      "Date:                Sun, 11 Apr 2021   Prob (F-statistic):             0.0252\n",
      "Time:                        20:20:34   Log-Likelihood:                 10.697\n",
      "No. Observations:                  72   AIC:                            -17.39\n",
      "Df Residuals:                      70   BIC:                            -12.84\n",
      "Df Model:                           1                                         \n",
      "Covariance Type:            nonrobust                                         \n",
      "==============================================================================\n",
      "                 coef    std err          t      P>|t|      [0.025      0.975]\n",
      "------------------------------------------------------------------------------\n",
      "Intercept      0.0593      0.025      2.351      0.022       0.009       0.110\n",
      "x              1.1531      0.504      2.287      0.025       0.148       2.159\n",
      "==============================================================================\n",
      "Omnibus:                        1.467   Durbin-Watson:                   2.110\n",
      "Prob(Omnibus):                  0.480   Jarque-Bera (JB):                0.829\n",
      "Skew:                           0.090   Prob(JB):                        0.661\n",
      "Kurtosis:                       3.494   Cond. No.                         20.2\n",
      "==============================================================================\n",
      "\n",
      "Notes:\n",
      "[1] Standard Errors assume that the covariance matrix of the errors is correctly specified.\n"
     ]
    }
   ],
   "source": [
    "result = sm.ols(formula=\"y ~ x\", data=df).fit()\n",
    "print(result.summary())"
   ]
  },
  {
   "cell_type": "code",
   "execution_count": null,
   "metadata": {},
   "outputs": [],
   "source": []
  },
  {
   "cell_type": "code",
   "execution_count": null,
   "metadata": {},
   "outputs": [],
   "source": []
  },
  {
   "cell_type": "markdown",
   "metadata": {},
   "source": [
    "### 3. CAMP Gold"
   ]
  },
  {
   "cell_type": "code",
   "execution_count": 96,
   "metadata": {},
   "outputs": [],
   "source": [
    "y1= rgt - rft\n",
    "x1= rmt - rft\n",
    "y1=y1.values.reshape(-1,1)\n",
    "x1=x1.values.reshape(-1,1)"
   ]
  },
  {
   "cell_type": "code",
   "execution_count": 97,
   "metadata": {},
   "outputs": [
    {
     "name": "stdout",
     "output_type": "stream",
     "text": [
      "[0.00477604] [[-0.04901397]]\n"
     ]
    }
   ],
   "source": [
    "#Intercept and slope\n",
    "lr = LinearRegression()\n",
    "lr.fit(x1,y1)\n",
    "print(lr.intercept_, lr.coef_)"
   ]
  },
  {
   "cell_type": "code",
   "execution_count": 98,
   "metadata": {},
   "outputs": [
    {
     "name": "stdout",
     "output_type": "stream",
     "text": [
      "                            OLS Regression Results                            \n",
      "==============================================================================\n",
      "Dep. Variable:                     y1   R-squared:                       0.004\n",
      "Model:                            OLS   Adj. R-squared:                 -0.011\n",
      "Method:                 Least Squares   F-statistic:                    0.2590\n",
      "Date:                Sun, 11 Apr 2021   Prob (F-statistic):              0.612\n",
      "Time:                        20:20:34   Log-Likelihood:                 129.88\n",
      "No. Observations:                  72   AIC:                            -255.8\n",
      "Df Residuals:                      70   BIC:                            -251.2\n",
      "Df Model:                           1                                         \n",
      "Covariance Type:            nonrobust                                         \n",
      "==============================================================================\n",
      "                 coef    std err          t      P>|t|      [0.025      0.975]\n",
      "------------------------------------------------------------------------------\n",
      "Intercept      0.0048      0.005      0.990      0.325      -0.005       0.014\n",
      "x1            -0.0490      0.096     -0.509      0.612      -0.241       0.143\n",
      "==============================================================================\n",
      "Omnibus:                        4.490   Durbin-Watson:                   2.123\n",
      "Prob(Omnibus):                  0.106   Jarque-Bera (JB):                3.887\n",
      "Skew:                           0.378   Prob(JB):                        0.143\n",
      "Kurtosis:                       3.852   Cond. No.                         20.2\n",
      "==============================================================================\n",
      "\n",
      "Notes:\n",
      "[1] Standard Errors assume that the covariance matrix of the errors is correctly specified.\n"
     ]
    }
   ],
   "source": [
    "result = sm.ols(formula=\"y1 ~ x1\", data=df).fit()\n",
    "print(result.summary())"
   ]
  },
  {
   "cell_type": "code",
   "execution_count": null,
   "metadata": {},
   "outputs": [],
   "source": []
  },
  {
   "cell_type": "code",
   "execution_count": null,
   "metadata": {},
   "outputs": [],
   "source": []
  }
 ],
 "metadata": {
  "kernelspec": {
   "display_name": "Python 3",
   "language": "python",
   "name": "python3"
  },
  "language_info": {
   "codemirror_mode": {
    "name": "ipython",
    "version": 3
   },
   "file_extension": ".py",
   "mimetype": "text/x-python",
   "name": "python",
   "nbconvert_exporter": "python",
   "pygments_lexer": "ipython3",
   "version": "3.8.5"
  }
 },
 "nbformat": 4,
 "nbformat_minor": 4
}
